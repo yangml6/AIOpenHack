{
 "cells": [
  {
   "cell_type": "code",
   "execution_count": null,
   "metadata": {},
   "outputs": [
    {
     "name": "stdout",
     "output_type": "stream",
     "text": [
      "BEGIN!\n"
     ]
    }
   ],
   "source": [
    "import os\n",
    "from PIL import Image\n",
    "import numpy as np\n",
    "from sklearn.decomposition import PCA\n",
    "from sklearn.svm import SVC\n",
    "from sklearn import model_selection\n",
    "from sklearn import metrics\n",
    "from sklearn.externals import joblib\n",
    "\n",
    "\n",
    "def travel(orgpth,img=[],label=[]):\n",
    "    fs = os.listdir(orgpth)  \n",
    "    for f in fs:\n",
    "        tmp_path = os.path.join(orgpth, f)\n",
    "        if not os.path.isdir(tmp_path):  \n",
    "#             print('do with file: %s'%tmp_path)\n",
    "            img_0,label_0 = processfile(tmp_path)\n",
    "            img.append(img_0)\n",
    "            label.append(label_0)\n",
    "        else:\n",
    "#             print('do with dir: %s'%tmp_path)\n",
    "            travel(tmp_path,img,label)\n",
    "            \n",
    "def readarray(im_pth,img=[],label=[]):   \n",
    "    travel(im_pth,img,label)\n",
    "    n_img = np.array(img)\n",
    "    return n_img,label\n",
    "\n",
    "def processfile(im_pth):\n",
    "    im = Image.open(im_pth)\n",
    "    imarray = np.asarray(im, dtype=np.uint8)\n",
    "    n_imarray = imarray.flatten()\n",
    "    label = im_pth.split('/')[-2]\n",
    "#     pca = PCA(n_components=2)  \n",
    "#     n_imarray = pca.fit_transform(imarray)\n",
    "#     PCA(copy=True, n_components=2, whiten=False) \n",
    "#     print(n_imarray,n_imarray.shape)\n",
    "#     print(im_pth.split('/')[-2])\n",
    "#     print(flatten_im.shape,n_imarray.shape)\n",
    "    return n_imarray,label\n",
    "\n",
    "def SVM(X,y):\n",
    "    print(\"BEGIN!\")\n",
    "    model = SVC(max_iter=1000,C=1.0)\n",
    "    model.fit(X,y)\n",
    "    joblib.dump(model, 'svm.model')\n",
    "    model = joblib.load('svm.model')\n",
    "    return model\n",
    "\n",
    "def evaluate(model,XX,YY):\n",
    "    predicted = model.predict(XX)\n",
    "    accuracy = metrics.accuracy_score(YY,predicted)\n",
    "#     precision, recall, fbeta_score, support = metrics.precision_recall_fscore_support(YY,predicted)\n",
    "    \n",
    "#     print(\"predicted:\\n\",predicted)\n",
    "    print(\"accuracy:\\n\",accuracy)\n",
    "#     print(\"precision:\\n\",precision)\n",
    "#     print(\"recall:\\n\",recall)\n",
    "#     print(\"fbeta_score:\\n\",fbeta_score)\n",
    "#     print(\"support:\\n\",support)\n",
    "\n",
    "def main():\n",
    "    im_pth = \"gear_images_a\"\n",
    "    readarray(im_pth)\n",
    "    img,label = readarray(im_pth)\n",
    "    X_train, X_test, Y_train, Y_test = model_selection.train_test_split(img, label, test_size=0.1, random_state=0)\n",
    "    svm = SVM(X_train,Y_train)\n",
    "    evaluate(svm,X_test,Y_test)\n",
    "    \n",
    "    \n",
    "# processfile('gear_images_a/axes/100172.jpeg')\n",
    "main()\n",
    "# svm = joblib.load('svm.model')\n",
    "# evaluate(svm,X_test,Y_test)"
   ]
  },
  {
   "cell_type": "code",
   "execution_count": null,
   "metadata": {},
   "outputs": [],
   "source": []
  },
  {
   "cell_type": "code",
   "execution_count": null,
   "metadata": {},
   "outputs": [],
   "source": []
  }
 ],
 "metadata": {
  "kernelspec": {
   "display_name": "Python 3",
   "language": "python",
   "name": "python3"
  },
  "language_info": {
   "codemirror_mode": {
    "name": "ipython",
    "version": 3
   },
   "file_extension": ".py",
   "mimetype": "text/x-python",
   "name": "python",
   "nbconvert_exporter": "python",
   "pygments_lexer": "ipython3",
   "version": "3.5.4"
  }
 },
 "nbformat": 4,
 "nbformat_minor": 2
}
