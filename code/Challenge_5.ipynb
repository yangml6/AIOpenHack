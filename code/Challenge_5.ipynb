{
 "cells": [
  {
   "cell_type": "code",
   "execution_count": null,
   "metadata": {},
   "outputs": [],
   "source": [
    "from flask import Flask\n",
    "from flask import request\n",
    "from flask import jsonify\n",
    "import numpy as np\n",
    "import platform\n",
    "from keras.models import load_model\n",
    "from keras.preprocessing import image\n",
    "from keras.applications.resnet50 import preprocess_input, decode_predictions\n",
    "\n",
    "app = Flask(__name__)\n",
    "\n",
    "model = None\n",
    "\n",
    "def init():\n",
    "    global model\n",
    "    model = load_model('svm.model')\n",
    "\n",
    "@app.route('/')\n",
    "def hello_world():\n",
    "    a = platform.python_version()\n",
    "    return a\n",
    "\n",
    "@app.route('/upload', methods=['POST'])\n",
    "def upload_file(): \n",
    "    if model ==None:\n",
    "        init()\n",
    "    if request.method == 'POST':\n",
    "        f = request.files['the_file']\n",
    "        imgPath = 'a.jpg'        \n",
    "        f.save(imgPath)\n",
    "        im = image.load_img(imgPath, target_size=(224, 224))\n",
    "        im = image.img_to_array(im)\n",
    "        im = np.expand_dims(im, axis=0)\n",
    "        x = preprocess_input(im)\n",
    "        preds = model.predict(x)\n",
    "        result = decode_predictions(preds, top=3)[0]\n",
    "        resultdict = {}\n",
    "        if len(result) > 0:\n",
    "            resultdict[result[0][1]] = float(result[0][2])\n",
    "        if len(result) > 1:\n",
    "            resultdict[result[1][1]] = float(result[1][2])\n",
    "        if len(result) > 2:\n",
    "            resultdict[result[2][1]] = float(result[2][2])\n",
    "        else:\n",
    "            resultdict['null'] = '0'\n",
    "        return jsonify(resultdict)\n",
    "\n",
    "if __name__ == '__main__':\n",
    "    app.run(host=\"0.0.0.0\",port=5000)"
   ]
  }
 ],
 "metadata": {
  "kernelspec": {
   "display_name": "Python 3",
   "language": "python",
   "name": "python3"
  },
  "language_info": {
   "codemirror_mode": {
    "name": "ipython",
    "version": 3
   },
   "file_extension": ".py",
   "mimetype": "text/x-python",
   "name": "python",
   "nbconvert_exporter": "python",
   "pygments_lexer": "ipython3",
   "version": "3.5.4"
  }
 },
 "nbformat": 4,
 "nbformat_minor": 2
}
