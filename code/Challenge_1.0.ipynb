{
 "cells": [
  {
   "cell_type": "code",
   "execution_count": 13,
   "metadata": {},
   "outputs": [
    {
     "name": "stdout",
     "output_type": "stream",
     "text": [
      "{\"id\":\"ae0d2ef2-7ef0-4728-b9c9-25a0989903e5\",\"project\":\"b35b1632-0fd0-47a0-ac49-a2b068301745\",\"iteration\":\"571d32a2-c6aa-4430-9a24-95fa13aa153e\",\"created\":\"2018-05-22T05:09:15.9919189Z\",\"predictions\":[{\"probability\":0.9364546,\"tagId\":\"1e06c135-5988-4406-8689-2cd8c0772587\",\"tagName\":\"insulated_jackets\"},{\"probability\":0.0167229529,\"tagId\":\"68f28891-b7dc-4c9b-8b0c-068704308dda\",\"tagName\":\"handshell_jackets\"}]}\n"
     ]
    }
   ],
   "source": [
    "import requests\n",
    "import json\n",
    "url = \"https://southcentralus.api.cognitive.microsoft.com/customvision/v2.0/Prediction/b35b1632-0fd0-47a0-ac49-a2b068301745/url?iterationId=571d32a2-c6aa-4430-9a24-95fa13aa153e\"\n",
    "payload = {\"Url\":\"http://imgsrc.baidu.com/image/c0%3Dpixel_huitu%2C0%2C0%2C294%2C40/sign=e91f2486875494ee932f0759448d8592/a9d3fd1f4134970a2a8fb5169ecad1c8a7865d0e.jpg\"}\n",
    "headers = {\n",
    "    'Content-Type':\"application/json; charset=utf-8\",\n",
    "    'Prediction-Key':\"0239da896a874839a2bc87ae5a9016bf\"\n",
    "}\n",
    "response = requests.post(url, data=json.dumps(payload),headers=headers)\n",
    "print(response.text)"
   ]
  },
  {
   "cell_type": "code",
   "execution_count": null,
   "metadata": {},
   "outputs": [],
   "source": []
  }
 ],
 "metadata": {
  "kernelspec": {
   "display_name": "Python 3",
   "language": "python",
   "name": "python3"
  },
  "language_info": {
   "codemirror_mode": {
    "name": "ipython",
    "version": 3
   },
   "file_extension": ".py",
   "mimetype": "text/x-python",
   "name": "python",
   "nbconvert_exporter": "python",
   "pygments_lexer": "ipython3",
   "version": "3.5.4"
  }
 },
 "nbformat": 4,
 "nbformat_minor": 2
}
